{
  "nbformat": 4,
  "nbformat_minor": 0,
  "metadata": {
    "colab": {
      "provenance": [],
      "authorship_tag": "ABX9TyNzPNgU/3tFlVpzwFhyOJ/J",
      "include_colab_link": true
    },
    "kernelspec": {
      "name": "python3",
      "display_name": "Python 3"
    },
    "language_info": {
      "name": "python"
    }
  },
  "cells": [
    {
      "cell_type": "markdown",
      "metadata": {
        "id": "view-in-github",
        "colab_type": "text"
      },
      "source": [
        "<a href=\"https://colab.research.google.com/github/annonlover/2024-intro-DA/blob/main/w02_2_control_flow_function.ipynb\" target=\"_parent\"><img src=\"https://colab.research.google.com/assets/colab-badge.svg\" alt=\"Open In Colab\"/></a>"
      ]
    },
    {
      "cell_type": "code",
      "execution_count": 2,
      "metadata": {
        "colab": {
          "base_uri": "https://localhost:8080/"
        },
        "id": "eC-Zpb6haBbZ",
        "outputId": "46ecfffb-e0f1-4f14-edc5-5ecf365265ee"
      },
      "outputs": [
        {
          "output_type": "stream",
          "name": "stdout",
          "text": [
            "짝수\n"
          ]
        }
      ],
      "source": [
        "#예제1 조건 if\n",
        "n = 20\n",
        "if n%2 == 0:\n",
        "    print('짝수')"
      ]
    },
    {
      "cell_type": "code",
      "source": [
        "#예제1 조건 if\n",
        "n = 21\n",
        "if n%2 == 0:\n",
        "   print('짝수')\n"
      ],
      "metadata": {
        "id": "F5Pffe7caTGB"
      },
      "execution_count": 3,
      "outputs": []
    },
    {
      "cell_type": "code",
      "source": [
        "#예제2 조건 if else\n",
        "age = 18\n",
        "if age >= 20:\n",
        "  print('성인')\n",
        "else:\n",
        "    print('미성년자')\n"
      ],
      "metadata": {
        "colab": {
          "base_uri": "https://localhost:8080/"
        },
        "id": "w0u-WEgHaryQ",
        "outputId": "f0e03cd4-a7fb-4126-8291-35c94622b695"
      },
      "execution_count": 5,
      "outputs": [
        {
          "output_type": "stream",
          "name": "stdout",
          "text": [
            "미성년자\n"
          ]
        }
      ]
    },
    {
      "cell_type": "code",
      "source": [
        "#예제2 조건 if else\n",
        "age = 21\n",
        "if age >= 20:\n",
        "  print('성인')\n",
        "else:\n",
        "    print('미성년자')"
      ],
      "metadata": {
        "colab": {
          "base_uri": "https://localhost:8080/"
        },
        "id": "J2t2_7Boa5Y2",
        "outputId": "2df88d45-180d-4c3c-852c-ca4b76192203"
      },
      "execution_count": 6,
      "outputs": [
        {
          "output_type": "stream",
          "name": "stdout",
          "text": [
            "성인\n"
          ]
        }
      ]
    },
    {
      "cell_type": "code",
      "source": [
        "#예제3 한 줄 조건 구문 if else\n",
        "age = 18\n",
        "s = '성인' if age>= 20 else '미성년자'\n",
        "print(s)"
      ],
      "metadata": {
        "colab": {
          "base_uri": "https://localhost:8080/"
        },
        "id": "XXed7OFbbCc2",
        "outputId": "bcb003bf-a4b4-4395-e479-310fc5c0be00"
      },
      "execution_count": 8,
      "outputs": [
        {
          "output_type": "stream",
          "name": "stdout",
          "text": [
            "미성년자\n"
          ]
        }
      ]
    },
    {
      "cell_type": "code",
      "source": [
        "#예제3 한 줄 조건 구문 if else\n",
        "age = 20\n",
        "s = '성인' if age>= 20 else '미성년자'\n",
        "print(s)"
      ],
      "metadata": {
        "colab": {
          "base_uri": "https://localhost:8080/"
        },
        "id": "M0wO9dSUbQsu",
        "outputId": "f4515d54-29be-43e9-f7c3-3a23b62cd429"
      },
      "execution_count": 9,
      "outputs": [
        {
          "output_type": "stream",
          "name": "stdout",
          "text": [
            "성인\n"
          ]
        }
      ]
    },
    {
      "cell_type": "code",
      "source": [
        "#예제4 반복된 조건 if elif\n",
        "\n",
        "point = 92\n",
        "if(90 <= point):\n",
        "  print('A')\n",
        "elif (80 <= point):\n",
        "  print('B')\n",
        "elif (70 <= point):\n",
        "  print('C')\n",
        "elif (60 <= point):\n",
        "  print('D')\n",
        "else:\n",
        "  print('F')"
      ],
      "metadata": {
        "colab": {
          "base_uri": "https://localhost:8080/"
        },
        "id": "-eMRvbHPbWkb",
        "outputId": "39568a76-753a-4845-a017-060dd8017918"
      },
      "execution_count": 10,
      "outputs": [
        {
          "output_type": "stream",
          "name": "stdout",
          "text": [
            "A\n"
          ]
        }
      ]
    },
    {
      "cell_type": "code",
      "source": [
        "#예제4 반복된 조건 if elif\n",
        "\n",
        "point = 62\n",
        "if(90 <= point):\n",
        "  print('A')\n",
        "elif (80 <= point):\n",
        "  print('B')\n",
        "elif (70 <= point):\n",
        "  print('C')\n",
        "elif (60 <= point):\n",
        "  print('D')\n",
        "else:\n",
        "  print('F')"
      ],
      "metadata": {
        "colab": {
          "base_uri": "https://localhost:8080/"
        },
        "id": "Amvjlp6wcCbz",
        "outputId": "e5822229-89ea-4ec5-ca1c-6832ea76c2fb"
      },
      "execution_count": 11,
      "outputs": [
        {
          "output_type": "stream",
          "name": "stdout",
          "text": [
            "D\n"
          ]
        }
      ]
    },
    {
      "cell_type": "code",
      "source": [
        "#예제5 match 구문\n",
        "value = \"apple\"\n",
        "\n",
        "match value:\n",
        "    case 'apple':\n",
        "        result = \"사과\"\n",
        "    case 'banana':\n",
        "        result = \"바나나\"\n",
        "\n",
        "print(result)"
      ],
      "metadata": {
        "colab": {
          "base_uri": "https://localhost:8080/"
        },
        "id": "0tNK_kT7cFt6",
        "outputId": "20213256-9401-440b-b14d-bea743211b24"
      },
      "execution_count": 17,
      "outputs": [
        {
          "output_type": "stream",
          "name": "stdout",
          "text": [
            "사과\n"
          ]
        }
      ]
    },
    {
      "cell_type": "code",
      "source": [
        "#예제5 match 구문\n",
        "value = \"banana\"\n",
        "match value:\n",
        "    case 'apple':\n",
        "        result = \"사과\"\n",
        "    case 'banana':\n",
        "        result = \"바나나\"\n",
        "\n",
        "print(result)"
      ],
      "metadata": {
        "colab": {
          "base_uri": "https://localhost:8080/"
        },
        "id": "n9HWbdiFchNM",
        "outputId": "c9873ebf-4ab5-4ece-84aa-6fa10517c910"
      },
      "execution_count": 18,
      "outputs": [
        {
          "output_type": "stream",
          "name": "stdout",
          "text": [
            "바나나\n"
          ]
        }
      ]
    },
    {
      "cell_type": "code",
      "source": [
        "#예제5 match 구문\n",
        "value = \"mango\"\n",
        "\n",
        "match value:\n",
        "  case 'apple':\n",
        "    result = \"사과\"\n",
        "  case 'banana':\n",
        "    result = \"바나나\"\n",
        "  case _:\n",
        "    result = None\n",
        "\n",
        "print(result)"
      ],
      "metadata": {
        "colab": {
          "base_uri": "https://localhost:8080/"
        },
        "id": "Afc3kEwxdqNz",
        "outputId": "7767633d-3051-4214-e9e0-a2e0b699a0ab"
      },
      "execution_count": 20,
      "outputs": [
        {
          "output_type": "stream",
          "name": "stdout",
          "text": [
            "None\n"
          ]
        }
      ]
    },
    {
      "cell_type": "code",
      "source": [
        "#예제6 반복 for 문\n",
        "for x in range(1, 6):\n",
        "  print(x)"
      ],
      "metadata": {
        "colab": {
          "base_uri": "https://localhost:8080/"
        },
        "id": "M7Xsgm2Nd_2T",
        "outputId": "a55c1180-816d-49ea-aa2f-882d76d9bb6f"
      },
      "execution_count": 24,
      "outputs": [
        {
          "output_type": "stream",
          "name": "stdout",
          "text": [
            "1\n",
            "2\n",
            "3\n",
            "4\n",
            "5\n"
          ]
        }
      ]
    },
    {
      "cell_type": "code",
      "source": [
        "#예제6 반복 for 문\n",
        "num = [10, 20, 30, 40]\n",
        "for i in num:\n",
        "  print(i)"
      ],
      "metadata": {
        "colab": {
          "base_uri": "https://localhost:8080/"
        },
        "id": "S0wL0p5feHuA",
        "outputId": "5d0cb205-74dd-4e01-c8be-9fd98bd7210e"
      },
      "execution_count": 25,
      "outputs": [
        {
          "output_type": "stream",
          "name": "stdout",
          "text": [
            "10\n",
            "20\n",
            "30\n",
            "40\n"
          ]
        }
      ]
    },
    {
      "cell_type": "code",
      "source": [
        "#예제6 반복 for 문\n",
        "fruits = list([\"apple \", 2500, \"banna\", 500, \"mango\", 2000])\n",
        "for x in fruits:\n",
        "  print(x)"
      ],
      "metadata": {
        "colab": {
          "base_uri": "https://localhost:8080/"
        },
        "id": "IJIBSTRMegcT",
        "outputId": "260602cd-a237-4a26-8b49-64bcc42edc00"
      },
      "execution_count": 26,
      "outputs": [
        {
          "output_type": "stream",
          "name": "stdout",
          "text": [
            "apple \n",
            "2500\n",
            "banna\n",
            "500\n",
            "mango\n",
            "2000\n"
          ]
        }
      ]
    },
    {
      "cell_type": "code",
      "source": [
        "#예제7 반복 while 문\n",
        "i = 1\n",
        "sum = 0\n",
        "while i <= 10:\n",
        "  sum += i\n",
        "  i += 1\n",
        "\n",
        "  print(sum)"
      ],
      "metadata": {
        "colab": {
          "base_uri": "https://localhost:8080/"
        },
        "id": "6b15OSVKevjf",
        "outputId": "486a309d-6eb7-4228-fb1e-ee37b267896c"
      },
      "execution_count": 27,
      "outputs": [
        {
          "output_type": "stream",
          "name": "stdout",
          "text": [
            "1\n",
            "3\n",
            "6\n",
            "10\n",
            "15\n",
            "21\n",
            "28\n",
            "36\n",
            "45\n",
            "55\n"
          ]
        }
      ]
    },
    {
      "cell_type": "code",
      "source": [
        "#예제8 함수 선언과 호출\n",
        "def hello():\n",
        " print('Hello, Python!')"
      ],
      "metadata": {
        "id": "4O5w192Ze60-"
      },
      "execution_count": 31,
      "outputs": []
    },
    {
      "cell_type": "code",
      "source": [
        "#예제8 함수 선언과 호출\n",
        "hello()"
      ],
      "metadata": {
        "colab": {
          "base_uri": "https://localhost:8080/"
        },
        "id": "XOtAxOkBfGmm",
        "outputId": "324e5e8d-030a-4926-a2aa-d5cc31b210f1"
      },
      "execution_count": 32,
      "outputs": [
        {
          "output_type": "stream",
          "name": "stdout",
          "text": [
            "Hello, Python!\n"
          ]
        }
      ]
    },
    {
      "cell_type": "code",
      "source": [
        "#예제8 함수 선언과 호출\n",
        "hello"
      ],
      "metadata": {
        "colab": {
          "base_uri": "https://localhost:8080/",
          "height": 104
        },
        "id": "gny8mcB8fTj9",
        "outputId": "21f62ae4-1c8b-40e6-8537-39da87b23058"
      },
      "execution_count": 33,
      "outputs": [
        {
          "output_type": "execute_result",
          "data": {
            "text/plain": [
              "<function __main__.hello()>"
            ],
            "text/html": [
              "<div style=\"max-width:800px; border: 1px solid var(--colab-border-color);\"><style>\n",
              "      pre.function-repr-contents {\n",
              "        overflow-x: auto;\n",
              "        padding: 8px 12px;\n",
              "        max-height: 500px;\n",
              "      }\n",
              "\n",
              "      pre.function-repr-contents.function-repr-contents-collapsed {\n",
              "        cursor: pointer;\n",
              "        max-height: 100px;\n",
              "      }\n",
              "    </style>\n",
              "    <pre style=\"white-space: initial; background:\n",
              "         var(--colab-secondary-surface-color); padding: 8px 12px;\n",
              "         border-bottom: 1px solid var(--colab-border-color);\"><b>hello</b><br/>def hello()</pre><pre class=\"function-repr-contents function-repr-contents-collapsed\" style=\"\"><a class=\"filepath\" style=\"display:none\" href=\"#\">/content/&lt;ipython-input-31-9d4f445c1fc5&gt;</a>&lt;no docstring&gt;</pre></div>"
            ]
          },
          "metadata": {},
          "execution_count": 33
        }
      ]
    },
    {
      "cell_type": "code",
      "source": [
        "#예제8 함수 선언과 호출\n",
        "type(hello)"
      ],
      "metadata": {
        "colab": {
          "base_uri": "https://localhost:8080/"
        },
        "id": "TuK7jQ-afV1D",
        "outputId": "a4b0722b-5d74-4eff-b1a8-4ca335bfd7c3"
      },
      "execution_count": 35,
      "outputs": [
        {
          "output_type": "execute_result",
          "data": {
            "text/plain": [
              "function"
            ]
          },
          "metadata": {},
          "execution_count": 35
        }
      ]
    },
    {
      "cell_type": "code",
      "source": [
        "#예제8 함수 선언과 호출\n",
        "def hi(one):\n",
        "  print('안녕', one)"
      ],
      "metadata": {
        "id": "hy2VBLi-fbCn"
      },
      "execution_count": 40,
      "outputs": []
    },
    {
      "cell_type": "code",
      "source": [
        "#예제8 함수 선언과 호출\n",
        "hi('영희')\n",
        "hi\n",
        "str(hi)"
      ],
      "metadata": {
        "colab": {
          "base_uri": "https://localhost:8080/",
          "height": 53
        },
        "id": "XNjdSmU7fe0Y",
        "outputId": "b530828c-35ad-4263-ffea-5c0877d49b0d"
      },
      "execution_count": 43,
      "outputs": [
        {
          "output_type": "stream",
          "name": "stdout",
          "text": [
            "안녕 영희\n"
          ]
        },
        {
          "output_type": "execute_result",
          "data": {
            "text/plain": [
              "'<function hi at 0x7ccd60bae950>'"
            ],
            "application/vnd.google.colaboratory.intrinsic+json": {
              "type": "string"
            }
          },
          "metadata": {},
          "execution_count": 43
        }
      ]
    },
    {
      "cell_type": "code",
      "source": [
        "#예제9 함수 매개변수 기본 값\n",
        "def hi(one = '친구들'):\n",
        "\n",
        "  print('안녕', one)"
      ],
      "metadata": {
        "id": "HBG-bcvPfz6j"
      },
      "execution_count": 45,
      "outputs": []
    },
    {
      "cell_type": "code",
      "source": [
        "#예제9 함수 매개변수 기본 값\n",
        "hi()"
      ],
      "metadata": {
        "colab": {
          "base_uri": "https://localhost:8080/"
        },
        "id": "hK93JVa0gFbn",
        "outputId": "56f5bfb7-7bab-40ed-e433-89a11fec8ad3"
      },
      "execution_count": 46,
      "outputs": [
        {
          "output_type": "stream",
          "name": "stdout",
          "text": [
            "안녕 친구들\n"
          ]
        }
      ]
    },
    {
      "cell_type": "code",
      "source": [
        "#예제9 함수 매개변수 기본 값\n",
        "hi('철수')"
      ],
      "metadata": {
        "colab": {
          "base_uri": "https://localhost:8080/"
        },
        "id": "nCjn5GRCgKnl",
        "outputId": "dd15bdb1-865c-4d9c-81a6-dd8297e611a8"
      },
      "execution_count": 47,
      "outputs": [
        {
          "output_type": "stream",
          "name": "stdout",
          "text": [
            "안녕 철수\n"
          ]
        }
      ]
    },
    {
      "cell_type": "code",
      "source": [
        "#예제9 함수 매개변수 기본 값\n",
        "import math as m\n",
        "def circle_area(r = 1):\n",
        "  print(m.pi * r **2)"
      ],
      "metadata": {
        "id": "e9xiSFhTgM9o"
      },
      "execution_count": 49,
      "outputs": []
    },
    {
      "cell_type": "code",
      "source": [
        "#예제9 함수 매개변수 기본 값\n",
        "circle_area()"
      ],
      "metadata": {
        "colab": {
          "base_uri": "https://localhost:8080/"
        },
        "id": "nwRhmZUZgZsi",
        "outputId": "e7491316-4a54-4ec5-b492-88eca171accd"
      },
      "execution_count": 50,
      "outputs": [
        {
          "output_type": "stream",
          "name": "stdout",
          "text": [
            "3.141592653589793\n"
          ]
        }
      ]
    },
    {
      "cell_type": "code",
      "source": [
        "#예제9 함수 매개변수 기본 값\n",
        "circle_area(4.5)"
      ],
      "metadata": {
        "colab": {
          "base_uri": "https://localhost:8080/"
        },
        "id": "ncn9BAQ0ghTj",
        "outputId": "0788226b-ae71-452f-c313-49ce763d1e40"
      },
      "execution_count": 52,
      "outputs": [
        {
          "output_type": "stream",
          "name": "stdout",
          "text": [
            "63.61725123519331\n"
          ]
        }
      ]
    },
    {
      "cell_type": "code",
      "source": [
        "#예제9 함수 매개변수 기본 값\n",
        "circle_area(r = 5.6)"
      ],
      "metadata": {
        "colab": {
          "base_uri": "https://localhost:8080/"
        },
        "id": "4ytz74CJgkW4",
        "outputId": "aa26299e-010a-46c2-ccfc-9b036a165b11"
      },
      "execution_count": 53,
      "outputs": [
        {
          "output_type": "stream",
          "name": "stdout",
          "text": [
            "98.5203456165759\n"
          ]
        }
      ]
    },
    {
      "cell_type": "code",
      "source": [
        "#예제9 함수 매개변수 기본 값\n",
        "print(circle_area(r = 7.2))"
      ],
      "metadata": {
        "colab": {
          "base_uri": "https://localhost:8080/"
        },
        "id": "w4kNhqsJgtTm",
        "outputId": "53d2da3c-1a54-43fd-ca12-aef8204c760f"
      },
      "execution_count": 54,
      "outputs": [
        {
          "output_type": "stream",
          "name": "stdout",
          "text": [
            "162.8601631620949\n",
            "None\n"
          ]
        }
      ]
    },
    {
      "cell_type": "code",
      "source": [
        "#예제10 return 구문과 함수 매개변수 지정\n",
        "import math as m\n",
        "def circle_area(r = 1):\n",
        "  return m.pi * r **2\n",
        "\n",
        "print(circle_area(r = 7.2))"
      ],
      "metadata": {
        "colab": {
          "base_uri": "https://localhost:8080/"
        },
        "id": "aJ-our5kgzMD",
        "outputId": "d92626f1-dd92-43f4-90f0-0893c398310e"
      },
      "execution_count": 56,
      "outputs": [
        {
          "output_type": "stream",
          "name": "stdout",
          "text": [
            "162.8601631620949\n"
          ]
        }
      ]
    },
    {
      "cell_type": "code",
      "source": [
        "#예제10 return 구문과 함수 매개변수 지정\n",
        "def sum_sub(x, y):\n",
        "  hap = x + y\n",
        "  cha = x - y\n",
        "  return hap, cha\n",
        "\n",
        "sum_sub(10,3)\n",
        "sum_sub(x = 10, y = 3)\n",
        "sum_sub(y = 3, x = 10)"
      ],
      "metadata": {
        "colab": {
          "base_uri": "https://localhost:8080/"
        },
        "id": "v2CblbCxhDEo",
        "outputId": "733fa8fc-c37f-48d2-a77b-59ed74554213"
      },
      "execution_count": 62,
      "outputs": [
        {
          "output_type": "execute_result",
          "data": {
            "text/plain": [
              "(13, 7)"
            ]
          },
          "metadata": {},
          "execution_count": 62
        }
      ]
    },
    {
      "cell_type": "code",
      "source": [
        "#예제11 lmabda익명 함수\n",
        "import math as m\n",
        "(lambda a, b: m.sqrt(a**2 + b**2))(3, 4)"
      ],
      "metadata": {
        "colab": {
          "base_uri": "https://localhost:8080/"
        },
        "id": "CsK6nSH2hJXb",
        "outputId": "a1cf55f6-50eb-47d2-ff43-b829c7d841a6"
      },
      "execution_count": 63,
      "outputs": [
        {
          "output_type": "execute_result",
          "data": {
            "text/plain": [
              "5.0"
            ]
          },
          "metadata": {},
          "execution_count": 63
        }
      ]
    },
    {
      "cell_type": "code",
      "source": [],
      "metadata": {
        "id": "UrtN1-behrDO"
      },
      "execution_count": null,
      "outputs": []
    }
  ]
}